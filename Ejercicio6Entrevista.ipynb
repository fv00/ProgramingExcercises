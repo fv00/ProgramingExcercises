{
  "nbformat": 4,
  "nbformat_minor": 0,
  "metadata": {
    "colab": {
      "name": "Ejercicio6Entrevista",
      "provenance": [],
      "collapsed_sections": [],
      "mount_file_id": "1Obq6d7xdg9ThP1g5wVSmKVYaL6LErYG7",
      "authorship_tag": "ABX9TyNZpqNVpcfYCFyzoiIOSMQY",
      "include_colab_link": true
    },
    "kernelspec": {
      "name": "python3",
      "display_name": "Python 3"
    },
    "language_info": {
      "name": "python"
    }
  },
  "cells": [
    {
      "cell_type": "markdown",
      "metadata": {
        "id": "view-in-github",
        "colab_type": "text"
      },
      "source": [
        "<a href=\"https://colab.research.google.com/github/fv00/ProgramingExcercises/blob/main/Ejercicio6Entrevista.ipynb\" target=\"_parent\"><img src=\"https://colab.research.google.com/assets/colab-badge.svg\" alt=\"Open In Colab\"/></a>"
      ]
    },
    {
      "cell_type": "markdown",
      "metadata": {
        "id": "nnqeCtBUBbxi"
      },
      "source": [
        "## Ejercicio 6\n",
        "El archivo train.csv contiene información sobre muchas transacciones con tarjetas de crédito y débito por diferentes canales. Para cada transacción se tiene el valor  monetario de la misma y otras variables (ver diccionario_variables.xlsx). De particular importancia es la variable FRAUDE en donde aparece 1 si la transacción constituyó un fraude o 0 si fue una transacción legítima. Su misión es desarrollar un modelo que permita, a partir de los datos en este archivo predecir cuál será el valor de la variable FRAUDE para una transacción cualquiera. \n",
        "El archivo test.csv contiene exactamente las mismas columnas de train.csv, la columna FRAUDE la dejamos en blanco.\n",
        "1. Cargue el archivo train.csv y Construya un modelo que capaz de realizar \n",
        "predicciones de FRAUDE.\n",
        "2. Enviar un archivo test_evaluado.csv con todas las columnas en el mismo \n",
        "orden que se encuentran en test.csv y adicionalmente la columna \n",
        "FRAUDE poblada con el valor predicho por su modelo. Cualquier valor real (es decir, fraccionario) entre 0 y 1 será admisible aquí, donde 1 debe \n",
        "corresponder a FRAUDE y 0 a transacción legítima."
      ]
    },
    {
      "cell_type": "code",
      "metadata": {
        "id": "KF1m8A73CX0h"
      },
      "source": [
        "import pandas as pd\n",
        "import numpy as np\n",
        "import matplotlib as plt\n",
        "import seaborn as sns\n",
        "from sklearn.linear_model import LogisticRegression"
      ],
      "execution_count": null,
      "outputs": []
    },
    {
      "cell_type": "code",
      "metadata": {
        "colab": {
          "base_uri": "https://localhost:8080/",
          "height": 1000
        },
        "id": "hDdPhBgGIJHB",
        "outputId": "3a6ca2c0-d346-4a9f-8d14-9ce9fe66eba1"
      },
      "source": [
        "training = pd.read_csv('train.csv')\n",
        "fraudulentas = training[training['FRAUDE'] == 1]\n",
        "fraudulentas.head(20)"
      ],
      "execution_count": null,
      "outputs": [
        {
          "output_type": "execute_result",
          "data": {
            "text/html": [
              "<div>\n",
              "<style scoped>\n",
              "    .dataframe tbody tr th:only-of-type {\n",
              "        vertical-align: middle;\n",
              "    }\n",
              "\n",
              "    .dataframe tbody tr th {\n",
              "        vertical-align: top;\n",
              "    }\n",
              "\n",
              "    .dataframe thead th {\n",
              "        text-align: right;\n",
              "    }\n",
              "</style>\n",
              "<table border=\"1\" class=\"dataframe\">\n",
              "  <thead>\n",
              "    <tr style=\"text-align: right;\">\n",
              "      <th></th>\n",
              "      <th>id</th>\n",
              "      <th>FRAUDE</th>\n",
              "      <th>VALOR</th>\n",
              "      <th>HORA_AUX</th>\n",
              "      <th>Dist_max_NAL</th>\n",
              "      <th>Canal1</th>\n",
              "      <th>FECHA</th>\n",
              "      <th>COD_PAIS</th>\n",
              "      <th>CANAL</th>\n",
              "      <th>DIASEM</th>\n",
              "      <th>DIAMES</th>\n",
              "      <th>FECHA_VIN</th>\n",
              "      <th>OFICINA_VIN</th>\n",
              "      <th>SEXO</th>\n",
              "      <th>SEGMENTO</th>\n",
              "      <th>EDAD</th>\n",
              "      <th>INGRESOS</th>\n",
              "      <th>EGRESOS</th>\n",
              "      <th>NROPAISES</th>\n",
              "      <th>Dist_Sum_INTER</th>\n",
              "      <th>Dist_Mean_INTER</th>\n",
              "      <th>Dist_Max_INTER</th>\n",
              "      <th>NROCIUDADES</th>\n",
              "      <th>Dist_Mean_NAL</th>\n",
              "      <th>Dist_HOY</th>\n",
              "      <th>Dist_sum_NAL</th>\n",
              "    </tr>\n",
              "  </thead>\n",
              "  <tbody>\n",
              "    <tr>\n",
              "      <th>0</th>\n",
              "      <td>9000000001</td>\n",
              "      <td>1</td>\n",
              "      <td>0.0</td>\n",
              "      <td>13</td>\n",
              "      <td>659.13</td>\n",
              "      <td>ATM_INT</td>\n",
              "      <td>20150501</td>\n",
              "      <td>US</td>\n",
              "      <td>ATM_INT</td>\n",
              "      <td>5</td>\n",
              "      <td>1</td>\n",
              "      <td>20120306.0</td>\n",
              "      <td>392.0</td>\n",
              "      <td>M</td>\n",
              "      <td>Personal Plus</td>\n",
              "      <td>29.0</td>\n",
              "      <td>1200000.0</td>\n",
              "      <td>1200000.0</td>\n",
              "      <td>1</td>\n",
              "      <td>NaN</td>\n",
              "      <td>NaN</td>\n",
              "      <td>NaN</td>\n",
              "      <td>6</td>\n",
              "      <td>474.94</td>\n",
              "      <td>4552.41</td>\n",
              "      <td>5224.36</td>\n",
              "    </tr>\n",
              "    <tr>\n",
              "      <th>1</th>\n",
              "      <td>9000000002</td>\n",
              "      <td>1</td>\n",
              "      <td>0.0</td>\n",
              "      <td>17</td>\n",
              "      <td>594.77</td>\n",
              "      <td>ATM_INT</td>\n",
              "      <td>20150515</td>\n",
              "      <td>US</td>\n",
              "      <td>ATM_INT</td>\n",
              "      <td>5</td>\n",
              "      <td>15</td>\n",
              "      <td>20050415.0</td>\n",
              "      <td>716.0</td>\n",
              "      <td>M</td>\n",
              "      <td>Personal Plus</td>\n",
              "      <td>29.0</td>\n",
              "      <td>5643700.0</td>\n",
              "      <td>500000.0</td>\n",
              "      <td>1</td>\n",
              "      <td>NaN</td>\n",
              "      <td>NaN</td>\n",
              "      <td>NaN</td>\n",
              "      <td>5</td>\n",
              "      <td>289.99</td>\n",
              "      <td>4552.41</td>\n",
              "      <td>2029.90</td>\n",
              "    </tr>\n",
              "    <tr>\n",
              "      <th>2</th>\n",
              "      <td>9000000003</td>\n",
              "      <td>1</td>\n",
              "      <td>0.0</td>\n",
              "      <td>13</td>\n",
              "      <td>659.13</td>\n",
              "      <td>ATM_INT</td>\n",
              "      <td>20150501</td>\n",
              "      <td>US</td>\n",
              "      <td>ATM_INT</td>\n",
              "      <td>5</td>\n",
              "      <td>1</td>\n",
              "      <td>20120306.0</td>\n",
              "      <td>392.0</td>\n",
              "      <td>M</td>\n",
              "      <td>Personal Plus</td>\n",
              "      <td>29.0</td>\n",
              "      <td>1200000.0</td>\n",
              "      <td>1200000.0</td>\n",
              "      <td>1</td>\n",
              "      <td>NaN</td>\n",
              "      <td>NaN</td>\n",
              "      <td>NaN</td>\n",
              "      <td>6</td>\n",
              "      <td>474.94</td>\n",
              "      <td>4552.41</td>\n",
              "      <td>5224.36</td>\n",
              "    </tr>\n",
              "    <tr>\n",
              "      <th>3</th>\n",
              "      <td>9000000004</td>\n",
              "      <td>1</td>\n",
              "      <td>0.0</td>\n",
              "      <td>13</td>\n",
              "      <td>659.13</td>\n",
              "      <td>ATM_INT</td>\n",
              "      <td>20150501</td>\n",
              "      <td>US</td>\n",
              "      <td>ATM_INT</td>\n",
              "      <td>5</td>\n",
              "      <td>1</td>\n",
              "      <td>20120306.0</td>\n",
              "      <td>392.0</td>\n",
              "      <td>M</td>\n",
              "      <td>Personal Plus</td>\n",
              "      <td>29.0</td>\n",
              "      <td>1200000.0</td>\n",
              "      <td>1200000.0</td>\n",
              "      <td>1</td>\n",
              "      <td>NaN</td>\n",
              "      <td>NaN</td>\n",
              "      <td>NaN</td>\n",
              "      <td>6</td>\n",
              "      <td>474.94</td>\n",
              "      <td>4552.41</td>\n",
              "      <td>5224.36</td>\n",
              "    </tr>\n",
              "    <tr>\n",
              "      <th>4</th>\n",
              "      <td>9000000005</td>\n",
              "      <td>1</td>\n",
              "      <td>0.0</td>\n",
              "      <td>0</td>\n",
              "      <td>1.00</td>\n",
              "      <td>ATM_INT</td>\n",
              "      <td>20150510</td>\n",
              "      <td>CR</td>\n",
              "      <td>ATM_INT</td>\n",
              "      <td>0</td>\n",
              "      <td>10</td>\n",
              "      <td>20141009.0</td>\n",
              "      <td>788.0</td>\n",
              "      <td>M</td>\n",
              "      <td>Personal</td>\n",
              "      <td>25.0</td>\n",
              "      <td>0.0</td>\n",
              "      <td>0.0</td>\n",
              "      <td>1</td>\n",
              "      <td>NaN</td>\n",
              "      <td>NaN</td>\n",
              "      <td>NaN</td>\n",
              "      <td>1</td>\n",
              "      <td>NaN</td>\n",
              "      <td>1482.35</td>\n",
              "      <td>1.00</td>\n",
              "    </tr>\n",
              "    <tr>\n",
              "      <th>5</th>\n",
              "      <td>9000000006</td>\n",
              "      <td>1</td>\n",
              "      <td>0.0</td>\n",
              "      <td>13</td>\n",
              "      <td>1.00</td>\n",
              "      <td>ATM_INT</td>\n",
              "      <td>20150523</td>\n",
              "      <td>US</td>\n",
              "      <td>ATM_INT</td>\n",
              "      <td>6</td>\n",
              "      <td>23</td>\n",
              "      <td>20150220.0</td>\n",
              "      <td>547.0</td>\n",
              "      <td>M</td>\n",
              "      <td>Emprendedor</td>\n",
              "      <td>20.0</td>\n",
              "      <td>4000000.0</td>\n",
              "      <td>2500000.0</td>\n",
              "      <td>1</td>\n",
              "      <td>NaN</td>\n",
              "      <td>NaN</td>\n",
              "      <td>NaN</td>\n",
              "      <td>1</td>\n",
              "      <td>NaN</td>\n",
              "      <td>4552.41</td>\n",
              "      <td>1.00</td>\n",
              "    </tr>\n",
              "    <tr>\n",
              "      <th>6</th>\n",
              "      <td>9000000007</td>\n",
              "      <td>1</td>\n",
              "      <td>0.0</td>\n",
              "      <td>14</td>\n",
              "      <td>659.13</td>\n",
              "      <td>ATM_INT</td>\n",
              "      <td>20150526</td>\n",
              "      <td>CR</td>\n",
              "      <td>ATM_INT</td>\n",
              "      <td>2</td>\n",
              "      <td>26</td>\n",
              "      <td>20080409.0</td>\n",
              "      <td>210.0</td>\n",
              "      <td>M</td>\n",
              "      <td>Personal Plus</td>\n",
              "      <td>29.0</td>\n",
              "      <td>2100000.0</td>\n",
              "      <td>310000.0</td>\n",
              "      <td>2</td>\n",
              "      <td>8616.02</td>\n",
              "      <td>4308.01</td>\n",
              "      <td>4308.01</td>\n",
              "      <td>5</td>\n",
              "      <td>342.47</td>\n",
              "      <td>1482.35</td>\n",
              "      <td>2739.72</td>\n",
              "    </tr>\n",
              "    <tr>\n",
              "      <th>7</th>\n",
              "      <td>9000000008</td>\n",
              "      <td>1</td>\n",
              "      <td>0.0</td>\n",
              "      <td>18</td>\n",
              "      <td>733.11</td>\n",
              "      <td>ATM_INT</td>\n",
              "      <td>20150502</td>\n",
              "      <td>US</td>\n",
              "      <td>ATM_INT</td>\n",
              "      <td>6</td>\n",
              "      <td>2</td>\n",
              "      <td>20040520.0</td>\n",
              "      <td>454.0</td>\n",
              "      <td>F</td>\n",
              "      <td>Personal Plus</td>\n",
              "      <td>28.0</td>\n",
              "      <td>2000000.0</td>\n",
              "      <td>200000.0</td>\n",
              "      <td>1</td>\n",
              "      <td>NaN</td>\n",
              "      <td>NaN</td>\n",
              "      <td>NaN</td>\n",
              "      <td>3</td>\n",
              "      <td>400.65</td>\n",
              "      <td>4552.41</td>\n",
              "      <td>2403.90</td>\n",
              "    </tr>\n",
              "    <tr>\n",
              "      <th>9</th>\n",
              "      <td>9000000010</td>\n",
              "      <td>1</td>\n",
              "      <td>0.0</td>\n",
              "      <td>15</td>\n",
              "      <td>461.26</td>\n",
              "      <td>ATM_INT</td>\n",
              "      <td>20150502</td>\n",
              "      <td>PA</td>\n",
              "      <td>ATM_INT</td>\n",
              "      <td>6</td>\n",
              "      <td>2</td>\n",
              "      <td>20090330.0</td>\n",
              "      <td>46.0</td>\n",
              "      <td>M</td>\n",
              "      <td>Personal Plus</td>\n",
              "      <td>28.0</td>\n",
              "      <td>4000000.0</td>\n",
              "      <td>1500000.0</td>\n",
              "      <td>1</td>\n",
              "      <td>NaN</td>\n",
              "      <td>NaN</td>\n",
              "      <td>NaN</td>\n",
              "      <td>9</td>\n",
              "      <td>190.22</td>\n",
              "      <td>1043.91</td>\n",
              "      <td>2282.59</td>\n",
              "    </tr>\n",
              "    <tr>\n",
              "      <th>10</th>\n",
              "      <td>9000000011</td>\n",
              "      <td>1</td>\n",
              "      <td>0.0</td>\n",
              "      <td>18</td>\n",
              "      <td>238.34</td>\n",
              "      <td>ATM_INT</td>\n",
              "      <td>20150513</td>\n",
              "      <td>CR</td>\n",
              "      <td>ATM_INT</td>\n",
              "      <td>3</td>\n",
              "      <td>13</td>\n",
              "      <td>20100624.0</td>\n",
              "      <td>17.0</td>\n",
              "      <td>F</td>\n",
              "      <td>Personal Plus</td>\n",
              "      <td>26.0</td>\n",
              "      <td>1500000.0</td>\n",
              "      <td>1000000.0</td>\n",
              "      <td>3</td>\n",
              "      <td>16813.90</td>\n",
              "      <td>4203.47</td>\n",
              "      <td>4552.41</td>\n",
              "      <td>2</td>\n",
              "      <td>238.34</td>\n",
              "      <td>1482.35</td>\n",
              "      <td>476.68</td>\n",
              "    </tr>\n",
              "    <tr>\n",
              "      <th>11</th>\n",
              "      <td>9000000012</td>\n",
              "      <td>1</td>\n",
              "      <td>0.0</td>\n",
              "      <td>13</td>\n",
              "      <td>659.13</td>\n",
              "      <td>ATM_INT</td>\n",
              "      <td>20150501</td>\n",
              "      <td>US</td>\n",
              "      <td>ATM_INT</td>\n",
              "      <td>5</td>\n",
              "      <td>1</td>\n",
              "      <td>20120306.0</td>\n",
              "      <td>392.0</td>\n",
              "      <td>M</td>\n",
              "      <td>Personal Plus</td>\n",
              "      <td>29.0</td>\n",
              "      <td>1200000.0</td>\n",
              "      <td>1200000.0</td>\n",
              "      <td>1</td>\n",
              "      <td>NaN</td>\n",
              "      <td>NaN</td>\n",
              "      <td>NaN</td>\n",
              "      <td>6</td>\n",
              "      <td>474.94</td>\n",
              "      <td>4552.41</td>\n",
              "      <td>5224.36</td>\n",
              "    </tr>\n",
              "    <tr>\n",
              "      <th>13</th>\n",
              "      <td>9000000014</td>\n",
              "      <td>1</td>\n",
              "      <td>0.0</td>\n",
              "      <td>23</td>\n",
              "      <td>1.00</td>\n",
              "      <td>ATM_INT</td>\n",
              "      <td>20150513</td>\n",
              "      <td>US</td>\n",
              "      <td>ATM_INT</td>\n",
              "      <td>3</td>\n",
              "      <td>13</td>\n",
              "      <td>20090723.0</td>\n",
              "      <td>4.0</td>\n",
              "      <td>F</td>\n",
              "      <td>Personal Plus</td>\n",
              "      <td>27.0</td>\n",
              "      <td>2200000.0</td>\n",
              "      <td>0.0</td>\n",
              "      <td>2</td>\n",
              "      <td>9104.82</td>\n",
              "      <td>4552.41</td>\n",
              "      <td>4552.41</td>\n",
              "      <td>1</td>\n",
              "      <td>NaN</td>\n",
              "      <td>4552.41</td>\n",
              "      <td>1.00</td>\n",
              "    </tr>\n",
              "    <tr>\n",
              "      <th>29</th>\n",
              "      <td>9000000030</td>\n",
              "      <td>1</td>\n",
              "      <td>24347.0</td>\n",
              "      <td>22</td>\n",
              "      <td>352.24</td>\n",
              "      <td>ATM_INT</td>\n",
              "      <td>20150516</td>\n",
              "      <td>EC</td>\n",
              "      <td>ATM_INT</td>\n",
              "      <td>6</td>\n",
              "      <td>16</td>\n",
              "      <td>20020926.0</td>\n",
              "      <td>430.0</td>\n",
              "      <td>F</td>\n",
              "      <td>Personal Plus</td>\n",
              "      <td>24.0</td>\n",
              "      <td>3000000.0</td>\n",
              "      <td>2500000.0</td>\n",
              "      <td>5</td>\n",
              "      <td>39255.32</td>\n",
              "      <td>4361.70</td>\n",
              "      <td>10507.27</td>\n",
              "      <td>3</td>\n",
              "      <td>133.14</td>\n",
              "      <td>904.81</td>\n",
              "      <td>399.43</td>\n",
              "    </tr>\n",
              "    <tr>\n",
              "      <th>40</th>\n",
              "      <td>9000000041</td>\n",
              "      <td>1</td>\n",
              "      <td>238806.0</td>\n",
              "      <td>12</td>\n",
              "      <td>23.31</td>\n",
              "      <td>POS</td>\n",
              "      <td>20150503</td>\n",
              "      <td>US</td>\n",
              "      <td>POS</td>\n",
              "      <td>0</td>\n",
              "      <td>3</td>\n",
              "      <td>20120717.0</td>\n",
              "      <td>337.0</td>\n",
              "      <td>F</td>\n",
              "      <td>Personal Plus</td>\n",
              "      <td>25.0</td>\n",
              "      <td>1500000.0</td>\n",
              "      <td>1200000.0</td>\n",
              "      <td>2</td>\n",
              "      <td>36419.28</td>\n",
              "      <td>4552.41</td>\n",
              "      <td>4552.41</td>\n",
              "      <td>2</td>\n",
              "      <td>23.31</td>\n",
              "      <td>4552.41</td>\n",
              "      <td>46.62</td>\n",
              "    </tr>\n",
              "    <tr>\n",
              "      <th>41</th>\n",
              "      <td>9000000042</td>\n",
              "      <td>1</td>\n",
              "      <td>238806.0</td>\n",
              "      <td>12</td>\n",
              "      <td>23.31</td>\n",
              "      <td>POS</td>\n",
              "      <td>20150503</td>\n",
              "      <td>US</td>\n",
              "      <td>POS</td>\n",
              "      <td>0</td>\n",
              "      <td>3</td>\n",
              "      <td>20120717.0</td>\n",
              "      <td>337.0</td>\n",
              "      <td>F</td>\n",
              "      <td>Personal Plus</td>\n",
              "      <td>25.0</td>\n",
              "      <td>1500000.0</td>\n",
              "      <td>1200000.0</td>\n",
              "      <td>2</td>\n",
              "      <td>36419.28</td>\n",
              "      <td>4552.41</td>\n",
              "      <td>4552.41</td>\n",
              "      <td>2</td>\n",
              "      <td>23.31</td>\n",
              "      <td>4552.41</td>\n",
              "      <td>46.62</td>\n",
              "    </tr>\n",
              "    <tr>\n",
              "      <th>43</th>\n",
              "      <td>9000000044</td>\n",
              "      <td>1</td>\n",
              "      <td>247738.0</td>\n",
              "      <td>19</td>\n",
              "      <td>523.10</td>\n",
              "      <td>ATM_INT</td>\n",
              "      <td>20150518</td>\n",
              "      <td>SV</td>\n",
              "      <td>ATM_INT</td>\n",
              "      <td>1</td>\n",
              "      <td>18</td>\n",
              "      <td>20130403.0</td>\n",
              "      <td>634.0</td>\n",
              "      <td>F</td>\n",
              "      <td>Personal Plus</td>\n",
              "      <td>29.0</td>\n",
              "      <td>1000000.0</td>\n",
              "      <td>500000.0</td>\n",
              "      <td>1</td>\n",
              "      <td>NaN</td>\n",
              "      <td>NaN</td>\n",
              "      <td>NaN</td>\n",
              "      <td>2</td>\n",
              "      <td>523.10</td>\n",
              "      <td>2153.87</td>\n",
              "      <td>523.10</td>\n",
              "    </tr>\n",
              "    <tr>\n",
              "      <th>47</th>\n",
              "      <td>9000000048</td>\n",
              "      <td>1</td>\n",
              "      <td>335790.0</td>\n",
              "      <td>22</td>\n",
              "      <td>1217.57</td>\n",
              "      <td>ATM_INT</td>\n",
              "      <td>20150521</td>\n",
              "      <td>GT</td>\n",
              "      <td>ATM_INT</td>\n",
              "      <td>4</td>\n",
              "      <td>21</td>\n",
              "      <td>20120530.0</td>\n",
              "      <td>84.0</td>\n",
              "      <td>F</td>\n",
              "      <td>Personal Plus</td>\n",
              "      <td>28.0</td>\n",
              "      <td>1000000.0</td>\n",
              "      <td>200000.0</td>\n",
              "      <td>1</td>\n",
              "      <td>NaN</td>\n",
              "      <td>NaN</td>\n",
              "      <td>NaN</td>\n",
              "      <td>3</td>\n",
              "      <td>730.59</td>\n",
              "      <td>2370.55</td>\n",
              "      <td>2922.38</td>\n",
              "    </tr>\n",
              "    <tr>\n",
              "      <th>48</th>\n",
              "      <td>9000000049</td>\n",
              "      <td>1</td>\n",
              "      <td>455773.0</td>\n",
              "      <td>18</td>\n",
              "      <td>61.45</td>\n",
              "      <td>ATM_INT</td>\n",
              "      <td>20150513</td>\n",
              "      <td>CR</td>\n",
              "      <td>ATM_INT</td>\n",
              "      <td>3</td>\n",
              "      <td>13</td>\n",
              "      <td>20080319.0</td>\n",
              "      <td>487.0</td>\n",
              "      <td>M</td>\n",
              "      <td>Personal Plus</td>\n",
              "      <td>29.0</td>\n",
              "      <td>1100000.0</td>\n",
              "      <td>350000.0</td>\n",
              "      <td>1</td>\n",
              "      <td>NaN</td>\n",
              "      <td>NaN</td>\n",
              "      <td>NaN</td>\n",
              "      <td>3</td>\n",
              "      <td>51.58</td>\n",
              "      <td>1482.35</td>\n",
              "      <td>309.51</td>\n",
              "    </tr>\n",
              "    <tr>\n",
              "      <th>49</th>\n",
              "      <td>9000000050</td>\n",
              "      <td>1</td>\n",
              "      <td>512295.0</td>\n",
              "      <td>23</td>\n",
              "      <td>733.11</td>\n",
              "      <td>ATM_INT</td>\n",
              "      <td>20150530</td>\n",
              "      <td>CR</td>\n",
              "      <td>ATM_INT</td>\n",
              "      <td>6</td>\n",
              "      <td>30</td>\n",
              "      <td>20051126.0</td>\n",
              "      <td>42.0</td>\n",
              "      <td>M</td>\n",
              "      <td>Personal Plus</td>\n",
              "      <td>25.0</td>\n",
              "      <td>1810000.0</td>\n",
              "      <td>900000.0</td>\n",
              "      <td>1</td>\n",
              "      <td>NaN</td>\n",
              "      <td>NaN</td>\n",
              "      <td>NaN</td>\n",
              "      <td>5</td>\n",
              "      <td>372.02</td>\n",
              "      <td>1482.35</td>\n",
              "      <td>2232.10</td>\n",
              "    </tr>\n",
              "    <tr>\n",
              "      <th>51</th>\n",
              "      <td>9000000052</td>\n",
              "      <td>1</td>\n",
              "      <td>911546.0</td>\n",
              "      <td>18</td>\n",
              "      <td>61.45</td>\n",
              "      <td>ATM_INT</td>\n",
              "      <td>20150513</td>\n",
              "      <td>CR</td>\n",
              "      <td>ATM_INT</td>\n",
              "      <td>3</td>\n",
              "      <td>13</td>\n",
              "      <td>20080319.0</td>\n",
              "      <td>487.0</td>\n",
              "      <td>M</td>\n",
              "      <td>Personal Plus</td>\n",
              "      <td>29.0</td>\n",
              "      <td>1100000.0</td>\n",
              "      <td>350000.0</td>\n",
              "      <td>1</td>\n",
              "      <td>NaN</td>\n",
              "      <td>NaN</td>\n",
              "      <td>NaN</td>\n",
              "      <td>3</td>\n",
              "      <td>51.58</td>\n",
              "      <td>1482.35</td>\n",
              "      <td>309.51</td>\n",
              "    </tr>\n",
              "  </tbody>\n",
              "</table>\n",
              "</div>"
            ],
            "text/plain": [
              "            id  FRAUDE     VALOR  ...  Dist_Mean_NAL  Dist_HOY Dist_sum_NAL\n",
              "0   9000000001       1       0.0  ...         474.94   4552.41      5224.36\n",
              "1   9000000002       1       0.0  ...         289.99   4552.41      2029.90\n",
              "2   9000000003       1       0.0  ...         474.94   4552.41      5224.36\n",
              "3   9000000004       1       0.0  ...         474.94   4552.41      5224.36\n",
              "4   9000000005       1       0.0  ...            NaN   1482.35         1.00\n",
              "5   9000000006       1       0.0  ...            NaN   4552.41         1.00\n",
              "6   9000000007       1       0.0  ...         342.47   1482.35      2739.72\n",
              "7   9000000008       1       0.0  ...         400.65   4552.41      2403.90\n",
              "9   9000000010       1       0.0  ...         190.22   1043.91      2282.59\n",
              "10  9000000011       1       0.0  ...         238.34   1482.35       476.68\n",
              "11  9000000012       1       0.0  ...         474.94   4552.41      5224.36\n",
              "13  9000000014       1       0.0  ...            NaN   4552.41         1.00\n",
              "29  9000000030       1   24347.0  ...         133.14    904.81       399.43\n",
              "40  9000000041       1  238806.0  ...          23.31   4552.41        46.62\n",
              "41  9000000042       1  238806.0  ...          23.31   4552.41        46.62\n",
              "43  9000000044       1  247738.0  ...         523.10   2153.87       523.10\n",
              "47  9000000048       1  335790.0  ...         730.59   2370.55      2922.38\n",
              "48  9000000049       1  455773.0  ...          51.58   1482.35       309.51\n",
              "49  9000000050       1  512295.0  ...         372.02   1482.35      2232.10\n",
              "51  9000000052       1  911546.0  ...          51.58   1482.35       309.51\n",
              "\n",
              "[20 rows x 26 columns]"
            ]
          },
          "metadata": {},
          "execution_count": 83
        }
      ]
    },
    {
      "cell_type": "code",
      "metadata": {
        "colab": {
          "base_uri": "https://localhost:8080/"
        },
        "id": "vSCqZBdXIc9v",
        "outputId": "d1781b29-be15-4447-82c9-467b5e2e2cc2"
      },
      "source": [
        "training['SEGMENTO'].value_counts()"
      ],
      "execution_count": null,
      "outputs": [
        {
          "output_type": "execute_result",
          "data": {
            "text/plain": [
              "Personal Plus    1527\n",
              "Preferencial      958\n",
              "Personal          174\n",
              "Emprendedor       159\n",
              "PYME              119\n",
              "Empresarial         4\n",
              "Name: SEGMENTO, dtype: int64"
            ]
          },
          "metadata": {},
          "execution_count": 84
        }
      ]
    },
    {
      "cell_type": "code",
      "metadata": {
        "colab": {
          "base_uri": "https://localhost:8080/",
          "height": 302
        },
        "id": "KvllvzJD7rA_",
        "outputId": "92be9e4b-ab9d-40d2-d7ea-7b2404c0ba13"
      },
      "source": [
        "training.groupby('HORA_AUX')['FRAUDE'].mean().plot.bar()"
      ],
      "execution_count": null,
      "outputs": [
        {
          "output_type": "execute_result",
          "data": {
            "text/plain": [
              "<matplotlib.axes._subplots.AxesSubplot at 0x7efea826a7d0>"
            ]
          },
          "metadata": {},
          "execution_count": 39
        },
        {
          "output_type": "display_data",
          "data": {
            "image/png": "[encoded data removed]",
            "text/plain": [
              "<Figure size 432x288 with 1 Axes>"
            ]
          },
          "metadata": {
            "needs_background": "light"
          }
        }
      ]
    },
    {
      "cell_type": "code",
      "metadata": {
        "colab": {
          "base_uri": "https://localhost:8080/",
          "height": 320
        },
        "id": "Qr9B3uVFusLA",
        "outputId": "791d6cd7-611c-4052-e6fc-f8932ef270d5"
      },
      "source": [
        "training.describe()"
      ],
      "execution_count": null,
      "outputs": [
        {
          "output_type": "execute_result",
          "data": {
            "text/html": [
              "<div>\n",
              "<style scoped>\n",
              "    .dataframe tbody tr th:only-of-type {\n",
              "        vertical-align: middle;\n",
              "    }\n",
              "\n",
              "    .dataframe tbody tr th {\n",
              "        vertical-align: top;\n",
              "    }\n",
              "\n",
              "    .dataframe thead th {\n",
              "        text-align: right;\n",
              "    }\n",
              "</style>\n",
              "<table border=\"1\" class=\"dataframe\">\n",
              "  <thead>\n",
              "    <tr style=\"text-align: right;\">\n",
              "      <th></th>\n",
              "      <th>id</th>\n",
              "      <th>FRAUDE</th>\n",
              "      <th>VALOR</th>\n",
              "      <th>HORA_AUX</th>\n",
              "      <th>Dist_max_NAL</th>\n",
              "      <th>DIASEM</th>\n",
              "      <th>DIAMES</th>\n",
              "      <th>FECHA_VIN</th>\n",
              "      <th>OFICINA_VIN</th>\n",
              "      <th>EDAD</th>\n",
              "      <th>INGRESOS</th>\n",
              "      <th>EGRESOS</th>\n",
              "      <th>NROPAISES</th>\n",
              "      <th>Dist_Sum_INTER</th>\n",
              "      <th>Dist_Mean_INTER</th>\n",
              "      <th>Dist_Max_INTER</th>\n",
              "      <th>NROCIUDADES</th>\n",
              "      <th>Dist_Mean_NAL</th>\n",
              "      <th>Dist_HOY</th>\n",
              "      <th>Dist_sum_NAL</th>\n",
              "    </tr>\n",
              "  </thead>\n",
              "  <tbody>\n",
              "    <tr>\n",
              "      <th>count</th>\n",
              "      <td>2.965000e+03</td>\n",
              "      <td>2965.000000</td>\n",
              "      <td>2.965000e+03</td>\n",
              "      <td>2965.000000</td>\n",
              "      <td>2965.000000</td>\n",
              "      <td>2965.000000</td>\n",
              "      <td>2965.000000</td>\n",
              "      <td>2.941000e+03</td>\n",
              "      <td>2941.000000</td>\n",
              "      <td>2941.000000</td>\n",
              "      <td>2.941000e+03</td>\n",
              "      <td>2.941000e+03</td>\n",
              "      <td>2965.000000</td>\n",
              "      <td>1418.000000</td>\n",
              "      <td>1418.000000</td>\n",
              "      <td>1418.000000</td>\n",
              "      <td>2965.000000</td>\n",
              "      <td>2508.000000</td>\n",
              "      <td>2965.000000</td>\n",
              "      <td>2965.000000</td>\n",
              "    </tr>\n",
              "    <tr>\n",
              "      <th>mean</th>\n",
              "      <td>6.890938e+09</td>\n",
              "      <td>0.246543</td>\n",
              "      <td>5.035695e+05</td>\n",
              "      <td>14.960877</td>\n",
              "      <td>314.656739</td>\n",
              "      <td>3.143002</td>\n",
              "      <td>13.492411</td>\n",
              "      <td>2.000920e+07</td>\n",
              "      <td>416.426386</td>\n",
              "      <td>40.010541</td>\n",
              "      <td>1.449104e+07</td>\n",
              "      <td>8.506309e+06</td>\n",
              "      <td>1.765936</td>\n",
              "      <td>17354.692891</td>\n",
              "      <td>4144.323540</td>\n",
              "      <td>4985.442313</td>\n",
              "      <td>3.943676</td>\n",
              "      <td>196.589282</td>\n",
              "      <td>4379.826287</td>\n",
              "      <td>1765.212887</td>\n",
              "    </tr>\n",
              "    <tr>\n",
              "      <th>std</th>\n",
              "      <td>9.739700e+09</td>\n",
              "      <td>0.431071</td>\n",
              "      <td>9.859497e+05</td>\n",
              "      <td>6.348607</td>\n",
              "      <td>295.142673</td>\n",
              "      <td>2.092284</td>\n",
              "      <td>9.134641</td>\n",
              "      <td>9.260427e+04</td>\n",
              "      <td>290.263484</td>\n",
              "      <td>12.976492</td>\n",
              "      <td>5.637311e+07</td>\n",
              "      <td>6.179161e+07</td>\n",
              "      <td>1.042219</td>\n",
              "      <td>25168.020649</td>\n",
              "      <td>1794.829357</td>\n",
              "      <td>2655.081718</td>\n",
              "      <td>2.750021</td>\n",
              "      <td>192.026206</td>\n",
              "      <td>1779.739070</td>\n",
              "      <td>2398.666844</td>\n",
              "    </tr>\n",
              "    <tr>\n",
              "      <th>min</th>\n",
              "      <td>2.364560e+06</td>\n",
              "      <td>0.000000</td>\n",
              "      <td>0.000000e+00</td>\n",
              "      <td>0.000000</td>\n",
              "      <td>1.000000</td>\n",
              "      <td>0.000000</td>\n",
              "      <td>1.000000</td>\n",
              "      <td>1.911111e+07</td>\n",
              "      <td>1.000000</td>\n",
              "      <td>0.000000</td>\n",
              "      <td>0.000000e+00</td>\n",
              "      <td>0.000000e+00</td>\n",
              "      <td>1.000000</td>\n",
              "      <td>904.810000</td>\n",
              "      <td>904.810000</td>\n",
              "      <td>904.810000</td>\n",
              "      <td>1.000000</td>\n",
              "      <td>4.480000</td>\n",
              "      <td>0.000000</td>\n",
              "      <td>1.000000</td>\n",
              "    </tr>\n",
              "    <tr>\n",
              "      <th>25%</th>\n",
              "      <td>2.552997e+09</td>\n",
              "      <td>0.000000</td>\n",
              "      <td>9.016001e+04</td>\n",
              "      <td>12.000000</td>\n",
              "      <td>24.830000</td>\n",
              "      <td>1.000000</td>\n",
              "      <td>4.000000</td>\n",
              "      <td>1.995102e+07</td>\n",
              "      <td>168.000000</td>\n",
              "      <td>31.000000</td>\n",
              "      <td>2.500000e+06</td>\n",
              "      <td>5.000000e+05</td>\n",
              "      <td>1.000000</td>\n",
              "      <td>6474.200000</td>\n",
              "      <td>3178.210000</td>\n",
              "      <td>4552.410000</td>\n",
              "      <td>2.000000</td>\n",
              "      <td>60.800000</td>\n",
              "      <td>4552.410000</td>\n",
              "      <td>139.870000</td>\n",
              "    </tr>\n",
              "    <tr>\n",
              "      <th>50%</th>\n",
              "      <td>6.142884e+09</td>\n",
              "      <td>0.000000</td>\n",
              "      <td>2.435912e+05</td>\n",
              "      <td>16.000000</td>\n",
              "      <td>243.620000</td>\n",
              "      <td>3.000000</td>\n",
              "      <td>15.000000</td>\n",
              "      <td>2.001123e+07</td>\n",
              "      <td>360.000000</td>\n",
              "      <td>38.000000</td>\n",
              "      <td>5.800000e+06</td>\n",
              "      <td>1.800000e+06</td>\n",
              "      <td>1.000000</td>\n",
              "      <td>9104.820000</td>\n",
              "      <td>4552.410000</td>\n",
              "      <td>4552.410000</td>\n",
              "      <td>3.000000</td>\n",
              "      <td>127.700000</td>\n",
              "      <td>4552.410000</td>\n",
              "      <td>836.080000</td>\n",
              "    </tr>\n",
              "    <tr>\n",
              "      <th>75%</th>\n",
              "      <td>9.000000e+09</td>\n",
              "      <td>0.000000</td>\n",
              "      <td>5.058190e+05</td>\n",
              "      <td>20.000000</td>\n",
              "      <td>594.770000</td>\n",
              "      <td>5.000000</td>\n",
              "      <td>21.000000</td>\n",
              "      <td>2.008081e+07</td>\n",
              "      <td>659.000000</td>\n",
              "      <td>47.000000</td>\n",
              "      <td>1.274000e+07</td>\n",
              "      <td>4.500000e+06</td>\n",
              "      <td>2.000000</td>\n",
              "      <td>21376.445000</td>\n",
              "      <td>4552.410000</td>\n",
              "      <td>4552.410000</td>\n",
              "      <td>5.000000</td>\n",
              "      <td>269.082500</td>\n",
              "      <td>4552.410000</td>\n",
              "      <td>2533.440000</td>\n",
              "    </tr>\n",
              "    <tr>\n",
              "      <th>max</th>\n",
              "      <td>9.330050e+10</td>\n",
              "      <td>1.000000</td>\n",
              "      <td>2.001406e+07</td>\n",
              "      <td>23.000000</td>\n",
              "      <td>1310.460000</td>\n",
              "      <td>6.000000</td>\n",
              "      <td>31.000000</td>\n",
              "      <td>2.015043e+07</td>\n",
              "      <td>967.000000</td>\n",
              "      <td>133.000000</td>\n",
              "      <td>1.940070e+09</td>\n",
              "      <td>1.600000e+09</td>\n",
              "      <td>9.000000</td>\n",
              "      <td>758837.940000</td>\n",
              "      <td>16328.810000</td>\n",
              "      <td>17780.330000</td>\n",
              "      <td>20.000000</td>\n",
              "      <td>1217.570000</td>\n",
              "      <td>21991.200000</td>\n",
              "      <td>18832.060000</td>\n",
              "    </tr>\n",
              "  </tbody>\n",
              "</table>\n",
              "</div>"
            ],
            "text/plain": [
              "                 id       FRAUDE  ...      Dist_HOY  Dist_sum_NAL\n",
              "count  2.965000e+03  2965.000000  ...   2965.000000   2965.000000\n",
              "mean   6.890938e+09     0.246543  ...   4379.826287   1765.212887\n",
              "std    9.739700e+09     0.431071  ...   1779.739070   2398.666844\n",
              "min    2.364560e+06     0.000000  ...      0.000000      1.000000\n",
              "25%    2.552997e+09     0.000000  ...   4552.410000    139.870000\n",
              "50%    6.142884e+09     0.000000  ...   4552.410000    836.080000\n",
              "75%    9.000000e+09     0.000000  ...   4552.410000   2533.440000\n",
              "max    9.330050e+10     1.000000  ...  21991.200000  18832.060000\n",
              "\n",
              "[8 rows x 20 columns]"
            ]
          },
          "metadata": {},
          "execution_count": 23
        }
      ]
    },
    {
      "cell_type": "code",
      "metadata": {
        "id": "qCOl561ACV6a",
        "colab": {
          "base_uri": "https://localhost:8080/",
          "height": 312
        },
        "outputId": "bc3f21f4-6465-4083-d5fa-442ef8e8a3c7"
      },
      "source": [
        "training['FECHA'] = pd.to_datetime(training['FECHA'], format=\"%Y%m%d\")\n",
        "training['FECHA_VIN'] = pd.to_datetime(training['FECHA_VIN'], format=\"%Y%m%d\")\n",
        "\n",
        "training.head()"
      ],
      "execution_count": null,
      "outputs": [
        {
          "output_type": "execute_result",
          "data": {
            "text/html": [
              "<div>\n",
              "<style scoped>\n",
              "    .dataframe tbody tr th:only-of-type {\n",
              "        vertical-align: middle;\n",
              "    }\n",
              "\n",
              "    .dataframe tbody tr th {\n",
              "        vertical-align: top;\n",
              "    }\n",
              "\n",
              "    .dataframe thead th {\n",
              "        text-align: right;\n",
              "    }\n",
              "</style>\n",
              "<table border=\"1\" class=\"dataframe\">\n",
              "  <thead>\n",
              "    <tr style=\"text-align: right;\">\n",
              "      <th></th>\n",
              "      <th>id</th>\n",
              "      <th>FRAUDE</th>\n",
              "      <th>VALOR</th>\n",
              "      <th>HORA_AUX</th>\n",
              "      <th>Dist_max_NAL</th>\n",
              "      <th>Canal1</th>\n",
              "      <th>FECHA</th>\n",
              "      <th>COD_PAIS</th>\n",
              "      <th>CANAL</th>\n",
              "      <th>DIASEM</th>\n",
              "      <th>DIAMES</th>\n",
              "      <th>FECHA_VIN</th>\n",
              "      <th>OFICINA_VIN</th>\n",
              "      <th>SEXO</th>\n",
              "      <th>SEGMENTO</th>\n",
              "      <th>EDAD</th>\n",
              "      <th>INGRESOS</th>\n",
              "      <th>EGRESOS</th>\n",
              "      <th>NROPAISES</th>\n",
              "      <th>Dist_Sum_INTER</th>\n",
              "      <th>Dist_Mean_INTER</th>\n",
              "      <th>Dist_Max_INTER</th>\n",
              "      <th>NROCIUDADES</th>\n",
              "      <th>Dist_Mean_NAL</th>\n",
              "      <th>Dist_HOY</th>\n",
              "      <th>Dist_sum_NAL</th>\n",
              "    </tr>\n",
              "  </thead>\n",
              "  <tbody>\n",
              "    <tr>\n",
              "      <th>0</th>\n",
              "      <td>9000000001</td>\n",
              "      <td>1</td>\n",
              "      <td>0.0</td>\n",
              "      <td>13</td>\n",
              "      <td>659.13</td>\n",
              "      <td>ATM_INT</td>\n",
              "      <td>2015-05-01</td>\n",
              "      <td>US</td>\n",
              "      <td>ATM_INT</td>\n",
              "      <td>5</td>\n",
              "      <td>1</td>\n",
              "      <td>2012-03-06</td>\n",
              "      <td>392.0</td>\n",
              "      <td>M</td>\n",
              "      <td>Personal Plus</td>\n",
              "      <td>29.0</td>\n",
              "      <td>1200000.0</td>\n",
              "      <td>1200000.0</td>\n",
              "      <td>1</td>\n",
              "      <td>NaN</td>\n",
              "      <td>NaN</td>\n",
              "      <td>NaN</td>\n",
              "      <td>6</td>\n",
              "      <td>474.94</td>\n",
              "      <td>4552.41</td>\n",
              "      <td>5224.36</td>\n",
              "    </tr>\n",
              "    <tr>\n",
              "      <th>1</th>\n",
              "      <td>9000000002</td>\n",
              "      <td>1</td>\n",
              "      <td>0.0</td>\n",
              "      <td>17</td>\n",
              "      <td>594.77</td>\n",
              "      <td>ATM_INT</td>\n",
              "      <td>2015-05-15</td>\n",
              "      <td>US</td>\n",
              "      <td>ATM_INT</td>\n",
              "      <td>5</td>\n",
              "      <td>15</td>\n",
              "      <td>2005-04-15</td>\n",
              "      <td>716.0</td>\n",
              "      <td>M</td>\n",
              "      <td>Personal Plus</td>\n",
              "      <td>29.0</td>\n",
              "      <td>5643700.0</td>\n",
              "      <td>500000.0</td>\n",
              "      <td>1</td>\n",
              "      <td>NaN</td>\n",
              "      <td>NaN</td>\n",
              "      <td>NaN</td>\n",
              "      <td>5</td>\n",
              "      <td>289.99</td>\n",
              "      <td>4552.41</td>\n",
              "      <td>2029.90</td>\n",
              "    </tr>\n",
              "    <tr>\n",
              "      <th>2</th>\n",
              "      <td>9000000003</td>\n",
              "      <td>1</td>\n",
              "      <td>0.0</td>\n",
              "      <td>13</td>\n",
              "      <td>659.13</td>\n",
              "      <td>ATM_INT</td>\n",
              "      <td>2015-05-01</td>\n",
              "      <td>US</td>\n",
              "      <td>ATM_INT</td>\n",
              "      <td>5</td>\n",
              "      <td>1</td>\n",
              "      <td>2012-03-06</td>\n",
              "      <td>392.0</td>\n",
              "      <td>M</td>\n",
              "      <td>Personal Plus</td>\n",
              "      <td>29.0</td>\n",
              "      <td>1200000.0</td>\n",
              "      <td>1200000.0</td>\n",
              "      <td>1</td>\n",
              "      <td>NaN</td>\n",
              "      <td>NaN</td>\n",
              "      <td>NaN</td>\n",
              "      <td>6</td>\n",
              "      <td>474.94</td>\n",
              "      <td>4552.41</td>\n",
              "      <td>5224.36</td>\n",
              "    </tr>\n",
              "    <tr>\n",
              "      <th>3</th>\n",
              "      <td>9000000004</td>\n",
              "      <td>1</td>\n",
              "      <td>0.0</td>\n",
              "      <td>13</td>\n",
              "      <td>659.13</td>\n",
              "      <td>ATM_INT</td>\n",
              "      <td>2015-05-01</td>\n",
              "      <td>US</td>\n",
              "      <td>ATM_INT</td>\n",
              "      <td>5</td>\n",
              "      <td>1</td>\n",
              "      <td>2012-03-06</td>\n",
              "      <td>392.0</td>\n",
              "      <td>M</td>\n",
              "      <td>Personal Plus</td>\n",
              "      <td>29.0</td>\n",
              "      <td>1200000.0</td>\n",
              "      <td>1200000.0</td>\n",
              "      <td>1</td>\n",
              "      <td>NaN</td>\n",
              "      <td>NaN</td>\n",
              "      <td>NaN</td>\n",
              "      <td>6</td>\n",
              "      <td>474.94</td>\n",
              "      <td>4552.41</td>\n",
              "      <td>5224.36</td>\n",
              "    </tr>\n",
              "    <tr>\n",
              "      <th>4</th>\n",
              "      <td>9000000005</td>\n",
              "      <td>1</td>\n",
              "      <td>0.0</td>\n",
              "      <td>0</td>\n",
              "      <td>1.00</td>\n",
              "      <td>ATM_INT</td>\n",
              "      <td>2015-05-10</td>\n",
              "      <td>CR</td>\n",
              "      <td>ATM_INT</td>\n",
              "      <td>0</td>\n",
              "      <td>10</td>\n",
              "      <td>2014-10-09</td>\n",
              "      <td>788.0</td>\n",
              "      <td>M</td>\n",
              "      <td>Personal</td>\n",
              "      <td>25.0</td>\n",
              "      <td>0.0</td>\n",
              "      <td>0.0</td>\n",
              "      <td>1</td>\n",
              "      <td>NaN</td>\n",
              "      <td>NaN</td>\n",
              "      <td>NaN</td>\n",
              "      <td>1</td>\n",
              "      <td>NaN</td>\n",
              "      <td>1482.35</td>\n",
              "      <td>1.00</td>\n",
              "    </tr>\n",
              "  </tbody>\n",
              "</table>\n",
              "</div>"
            ],
            "text/plain": [
              "           id  FRAUDE  VALOR  ...  Dist_Mean_NAL  Dist_HOY Dist_sum_NAL\n",
              "0  9000000001       1    0.0  ...         474.94   4552.41      5224.36\n",
              "1  9000000002       1    0.0  ...         289.99   4552.41      2029.90\n",
              "2  9000000003       1    0.0  ...         474.94   4552.41      5224.36\n",
              "3  9000000004       1    0.0  ...         474.94   4552.41      5224.36\n",
              "4  9000000005       1    0.0  ...            NaN   1482.35         1.00\n",
              "\n",
              "[5 rows x 26 columns]"
            ]
          },
          "metadata": {},
          "execution_count": 30
        }
      ]
    },
    {
      "cell_type": "code",
      "metadata": {
        "colab": {
          "base_uri": "https://localhost:8080/"
        },
        "id": "wyI3ZFGCqLFA",
        "outputId": "2c5ae822-ec54-4717-b422-2f7a9dc6f25e"
      },
      "source": [
        "training['FRAUDE'].value_counts()"
      ],
      "execution_count": null,
      "outputs": [
        {
          "output_type": "execute_result",
          "data": {
            "text/plain": [
              "0    2234\n",
              "1     731\n",
              "Name: FRAUDE, dtype: int64"
            ]
          },
          "metadata": {},
          "execution_count": 15
        }
      ]
    },
    {
      "cell_type": "code",
      "metadata": {
        "colab": {
          "base_uri": "https://localhost:8080/",
          "height": 279
        },
        "id": "q7BBjg5PpL7L",
        "outputId": "2aa39dd7-ee88-4593-89d3-b01840edffd5"
      },
      "source": [
        "training['FRAUDE'].value_counts().plot.bar()"
      ],
      "execution_count": null,
      "outputs": [
        {
          "output_type": "execute_result",
          "data": {
            "text/plain": [
              "<matplotlib.axes._subplots.AxesSubplot at 0x7efeac3af790>"
            ]
          },
          "metadata": {},
          "execution_count": 14
        },
        {
          "output_type": "display_data",
          "data": {
            "image/png": "[encoded data removed]",
            "text/plain": [
              "<Figure size 432x288 with 1 Axes>"
            ]
          },
          "metadata": {
            "needs_background": "light"
          }
        }
      ]
    },
    {
      "cell_type": "code",
      "metadata": {
        "colab": {
          "base_uri": "https://localhost:8080/",
          "height": 279
        },
        "id": "aqgKnR-sn2Ze",
        "outputId": "4c1f6ee5-f987-4075-98f0-7cced009ad6b"
      },
      "source": [
        "training['DIASEM'].value_counts(sort=False).plot.bar()"
      ],
      "execution_count": null,
      "outputs": [
        {
          "output_type": "execute_result",
          "data": {
            "text/plain": [
              "<matplotlib.axes._subplots.AxesSubplot at 0x7efeac5a4050>"
            ]
          },
          "metadata": {},
          "execution_count": 13
        },
        {
          "output_type": "display_data",
          "data": {
            "image/png": "[encoded data removed]",
            "text/plain": [
              "<Figure size 432x288 with 1 Axes>"
            ]
          },
          "metadata": {
            "needs_background": "light"
          }
        }
      ]
    },
    {
      "cell_type": "markdown",
      "metadata": {
        "id": "bwkUcTc3DUXe"
      },
      "source": [
        "Se observa un ligero desbalanceo respecto a la variable día de la semana que podría interferir en los resultados del modelo."
      ]
    },
    {
      "cell_type": "code",
      "metadata": {
        "colab": {
          "base_uri": "https://localhost:8080/",
          "height": 297
        },
        "id": "MM50PJRxnCy8",
        "outputId": "4ae7449a-e847-48a6-f8c1-25e5f4f5c4a6"
      },
      "source": [
        "sns.barplot(data = training, x = \"DIASEM\", y = \"FRAUDE\")"
      ],
      "execution_count": null,
      "outputs": [
        {
          "output_type": "execute_result",
          "data": {
            "text/plain": [
              "<matplotlib.axes._subplots.AxesSubplot at 0x7efeb15e1450>"
            ]
          },
          "metadata": {},
          "execution_count": 7
        },
        {
          "output_type": "display_data",
          "data": {
            "image/png": "[encoded data removed]",
            "text/plain": [
              "<Figure size 432x288 with 1 Axes>"
            ]
          },
          "metadata": {
            "needs_background": "light"
          }
        }
      ]
    },
    {
      "cell_type": "code",
      "metadata": {
        "colab": {
          "base_uri": "https://localhost:8080/"
        },
        "id": "G58XThvnnVYz",
        "outputId": "7737b720-26f6-4c71-ecf5-189becbd7b52"
      },
      "source": [
        "training.groupby(\"DIASEM\")['FRAUDE'].mean()"
      ],
      "execution_count": null,
      "outputs": [
        {
          "output_type": "execute_result",
          "data": {
            "text/plain": [
              "DIASEM\n",
              "0    0.140625\n",
              "1    0.219672\n",
              "2    0.219585\n",
              "3    0.252847\n",
              "4    0.295775\n",
              "5    0.277691\n",
              "6    0.324385\n",
              "Name: FRAUDE, dtype: float64"
            ]
          },
          "metadata": {},
          "execution_count": 10
        }
      ]
    },
    {
      "cell_type": "code",
      "metadata": {
        "colab": {
          "base_uri": "https://localhost:8080/"
        },
        "id": "fWiQlowbo1ia",
        "outputId": "0aeee34a-bf28-42d5-8ecb-18ed3dd08b3d"
      },
      "source": [
        "training.groupby(\"CANAL\")['FRAUDE'].mean()"
      ],
      "execution_count": null,
      "outputs": [
        {
          "output_type": "execute_result",
          "data": {
            "text/plain": [
              "CANAL\n",
              "ATM_INT    0.679245\n",
              "MCI        0.123333\n",
              "POS        0.133747\n",
              "Name: FRAUDE, dtype: float64"
            ]
          },
          "metadata": {},
          "execution_count": 19
        }
      ]
    },
    {
      "cell_type": "code",
      "metadata": {
        "colab": {
          "base_uri": "https://localhost:8080/"
        },
        "id": "OK3NiJy6qq7M",
        "outputId": "aec53043-dc63-4bf1-bc56-8006c0573b8e"
      },
      "source": [
        "training.groupby(\"Canal1\")['FRAUDE'].mean()"
      ],
      "execution_count": null,
      "outputs": [
        {
          "output_type": "execute_result",
          "data": {
            "text/plain": [
              "Canal1\n",
              "ATM_INT    0.679245\n",
              "POS        0.128381\n",
              "Name: FRAUDE, dtype: float64"
            ]
          },
          "metadata": {},
          "execution_count": 20
        }
      ]
    },
    {
      "cell_type": "markdown",
      "metadata": {
        "id": "tyDD6Jlbeo0r"
      },
      "source": [
        "Se propone crear una variable que indique sí el riesgo es notorio:"
      ]
    },
    {
      "cell_type": "code",
      "metadata": {
        "colab": {
          "base_uri": "https://localhost:8080/",
          "height": 983
        },
        "id": "Ll_k-2ZNuKCK",
        "outputId": "1b0c46aa-d2cb-444a-fb6c-b2355a9c5a8f"
      },
      "source": [
        "proporcion_fraudes = training.groupby('COD_PAIS')['FRAUDE'].mean()\n",
        "cantidad_fraudes = training.groupby('COD_PAIS')['FRAUDE'].sum()\n",
        "evaluar_oficina = pd.DataFrame({'proporcion' : proporcion_fraudes,\n",
        "              'cantidad': cantidad_fraudes})\n",
        "evaluar_oficina['proporcion'] = evaluar_oficina['proporcion']\n",
        "oficinas_confiables = evaluar_oficina\n",
        "oficinas_confiables.sort_values(by = ['proporcion', 'cantidad'], ascending=False)"
      ],
      "execution_count": 118,
      "outputs": [
        {
          "output_type": "execute_result",
          "data": {
            "text/html": [
              "<div>\n",
              "<style scoped>\n",
              "    .dataframe tbody tr th:only-of-type {\n",
              "        vertical-align: middle;\n",
              "    }\n",
              "\n",
              "    .dataframe tbody tr th {\n",
              "        vertical-align: top;\n",
              "    }\n",
              "\n",
              "    .dataframe thead th {\n",
              "        text-align: right;\n",
              "    }\n",
              "</style>\n",
              "<table border=\"1\" class=\"dataframe\">\n",
              "  <thead>\n",
              "    <tr style=\"text-align: right;\">\n",
              "      <th></th>\n",
              "      <th>proporcion</th>\n",
              "      <th>cantidad</th>\n",
              "    </tr>\n",
              "    <tr>\n",
              "      <th>COD_PAIS</th>\n",
              "      <th></th>\n",
              "      <th></th>\n",
              "    </tr>\n",
              "  </thead>\n",
              "  <tbody>\n",
              "    <tr>\n",
              "      <th>PH</th>\n",
              "      <td>1.000000</td>\n",
              "      <td>15</td>\n",
              "    </tr>\n",
              "    <tr>\n",
              "      <th>SV</th>\n",
              "      <td>1.000000</td>\n",
              "      <td>8</td>\n",
              "    </tr>\n",
              "    <tr>\n",
              "      <th>FR</th>\n",
              "      <td>1.000000</td>\n",
              "      <td>7</td>\n",
              "    </tr>\n",
              "    <tr>\n",
              "      <th>HN</th>\n",
              "      <td>1.000000</td>\n",
              "      <td>7</td>\n",
              "    </tr>\n",
              "    <tr>\n",
              "      <th>GB</th>\n",
              "      <td>1.000000</td>\n",
              "      <td>5</td>\n",
              "    </tr>\n",
              "    <tr>\n",
              "      <th>IT</th>\n",
              "      <td>1.000000</td>\n",
              "      <td>2</td>\n",
              "    </tr>\n",
              "    <tr>\n",
              "      <th>NI</th>\n",
              "      <td>1.000000</td>\n",
              "      <td>2</td>\n",
              "    </tr>\n",
              "    <tr>\n",
              "      <th>HK</th>\n",
              "      <td>1.000000</td>\n",
              "      <td>1</td>\n",
              "    </tr>\n",
              "    <tr>\n",
              "      <th>CR</th>\n",
              "      <td>0.964286</td>\n",
              "      <td>54</td>\n",
              "    </tr>\n",
              "    <tr>\n",
              "      <th>BR</th>\n",
              "      <td>0.875000</td>\n",
              "      <td>7</td>\n",
              "    </tr>\n",
              "    <tr>\n",
              "      <th>MX</th>\n",
              "      <td>0.866667</td>\n",
              "      <td>13</td>\n",
              "    </tr>\n",
              "    <tr>\n",
              "      <th>EC</th>\n",
              "      <td>0.785714</td>\n",
              "      <td>55</td>\n",
              "    </tr>\n",
              "    <tr>\n",
              "      <th>CW</th>\n",
              "      <td>0.750000</td>\n",
              "      <td>3</td>\n",
              "    </tr>\n",
              "    <tr>\n",
              "      <th>CL</th>\n",
              "      <td>0.692308</td>\n",
              "      <td>9</td>\n",
              "    </tr>\n",
              "    <tr>\n",
              "      <th>GT</th>\n",
              "      <td>0.666667</td>\n",
              "      <td>2</td>\n",
              "    </tr>\n",
              "    <tr>\n",
              "      <th>CN</th>\n",
              "      <td>0.500000</td>\n",
              "      <td>1</td>\n",
              "    </tr>\n",
              "    <tr>\n",
              "      <th>DO</th>\n",
              "      <td>0.375000</td>\n",
              "      <td>6</td>\n",
              "    </tr>\n",
              "    <tr>\n",
              "      <th>US</th>\n",
              "      <td>0.202040</td>\n",
              "      <td>515</td>\n",
              "    </tr>\n",
              "    <tr>\n",
              "      <th>PA</th>\n",
              "      <td>0.150794</td>\n",
              "      <td>19</td>\n",
              "    </tr>\n",
              "    <tr>\n",
              "      <th>AR</th>\n",
              "      <td>0.000000</td>\n",
              "      <td>0</td>\n",
              "    </tr>\n",
              "    <tr>\n",
              "      <th>AW</th>\n",
              "      <td>0.000000</td>\n",
              "      <td>0</td>\n",
              "    </tr>\n",
              "    <tr>\n",
              "      <th>CA</th>\n",
              "      <td>0.000000</td>\n",
              "      <td>0</td>\n",
              "    </tr>\n",
              "    <tr>\n",
              "      <th>CU</th>\n",
              "      <td>0.000000</td>\n",
              "      <td>0</td>\n",
              "    </tr>\n",
              "    <tr>\n",
              "      <th>FJ</th>\n",
              "      <td>0.000000</td>\n",
              "      <td>0</td>\n",
              "    </tr>\n",
              "    <tr>\n",
              "      <th>JP</th>\n",
              "      <td>0.000000</td>\n",
              "      <td>0</td>\n",
              "    </tr>\n",
              "    <tr>\n",
              "      <th>PE</th>\n",
              "      <td>0.000000</td>\n",
              "      <td>0</td>\n",
              "    </tr>\n",
              "    <tr>\n",
              "      <th>PR</th>\n",
              "      <td>0.000000</td>\n",
              "      <td>0</td>\n",
              "    </tr>\n",
              "    <tr>\n",
              "      <th>PY</th>\n",
              "      <td>0.000000</td>\n",
              "      <td>0</td>\n",
              "    </tr>\n",
              "    <tr>\n",
              "      <th>UY</th>\n",
              "      <td>0.000000</td>\n",
              "      <td>0</td>\n",
              "    </tr>\n",
              "  </tbody>\n",
              "</table>\n",
              "</div>"
            ],
            "text/plain": [
              "          proporcion  cantidad\n",
              "COD_PAIS                      \n",
              "PH          1.000000        15\n",
              "SV          1.000000         8\n",
              "FR          1.000000         7\n",
              "HN          1.000000         7\n",
              "GB          1.000000         5\n",
              "IT          1.000000         2\n",
              "NI          1.000000         2\n",
              "HK          1.000000         1\n",
              "CR          0.964286        54\n",
              "BR          0.875000         7\n",
              "MX          0.866667        13\n",
              "EC          0.785714        55\n",
              "CW          0.750000         3\n",
              "CL          0.692308         9\n",
              "GT          0.666667         2\n",
              "CN          0.500000         1\n",
              "DO          0.375000         6\n",
              "US          0.202040       515\n",
              "PA          0.150794        19\n",
              "AR          0.000000         0\n",
              "AW          0.000000         0\n",
              "CA          0.000000         0\n",
              "CU          0.000000         0\n",
              "FJ          0.000000         0\n",
              "JP          0.000000         0\n",
              "PE          0.000000         0\n",
              "PR          0.000000         0\n",
              "PY          0.000000         0\n",
              "UY          0.000000         0"
            ]
          },
          "metadata": {},
          "execution_count": 118
        }
      ]
    },
    {
      "cell_type": "code",
      "metadata": {
        "colab": {
          "base_uri": "https://localhost:8080/",
          "height": 469
        },
        "id": "zKHQUKzr9t80",
        "outputId": "18f02e9a-4df4-430b-a2d5-00444a7a60db"
      },
      "source": [
        "proporcion_fraudes = training.groupby('OFICINA_VIN')['FRAUDE'].mean()\n",
        "cantidad_fraudes = training.groupby('OFICINA_VIN')['FRAUDE'].count()\n",
        "evaluar_oficina = pd.DataFrame({'proporcion' : proporcion_fraudes,\n",
        "              'cantidad': cantidad_fraudes})\n",
        "evaluar_oficina['proporcion'] = evaluar_oficina['proporcion']\n",
        "oficinas_confiables = evaluar_oficina[evaluar_oficina['proporcion'] < 0.05]\n",
        "print(oficinas_confiables['cantidad'].sum())\n",
        "oficinas_confiables.sort_values(by = ['proporcion', 'cantidad'], ascending=False)\n"
      ],
      "execution_count": 114,
      "outputs": [
        {
          "output_type": "stream",
          "text": [
            "1050\n"
          ],
          "name": "stdout"
        },
        {
          "output_type": "execute_result",
          "data": {
            "text/html": [
              "<div>\n",
              "<style scoped>\n",
              "    .dataframe tbody tr th:only-of-type {\n",
              "        vertical-align: middle;\n",
              "    }\n",
              "\n",
              "    .dataframe tbody tr th {\n",
              "        vertical-align: top;\n",
              "    }\n",
              "\n",
              "    .dataframe thead th {\n",
              "        text-align: right;\n",
              "    }\n",
              "</style>\n",
              "<table border=\"1\" class=\"dataframe\">\n",
              "  <thead>\n",
              "    <tr style=\"text-align: right;\">\n",
              "      <th></th>\n",
              "      <th>proporcion</th>\n",
              "      <th>cantidad</th>\n",
              "    </tr>\n",
              "    <tr>\n",
              "      <th>OFICINA_VIN</th>\n",
              "      <th></th>\n",
              "      <th></th>\n",
              "    </tr>\n",
              "  </thead>\n",
              "  <tbody>\n",
              "    <tr>\n",
              "      <th>929.0</th>\n",
              "      <td>0.048780</td>\n",
              "      <td>41</td>\n",
              "    </tr>\n",
              "    <tr>\n",
              "      <th>319.0</th>\n",
              "      <td>0.033333</td>\n",
              "      <td>30</td>\n",
              "    </tr>\n",
              "    <tr>\n",
              "      <th>961.0</th>\n",
              "      <td>0.032258</td>\n",
              "      <td>31</td>\n",
              "    </tr>\n",
              "    <tr>\n",
              "      <th>967.0</th>\n",
              "      <td>0.030303</td>\n",
              "      <td>33</td>\n",
              "    </tr>\n",
              "    <tr>\n",
              "      <th>963.0</th>\n",
              "      <td>0.029412</td>\n",
              "      <td>34</td>\n",
              "    </tr>\n",
              "    <tr>\n",
              "      <th>...</th>\n",
              "      <td>...</td>\n",
              "      <td>...</td>\n",
              "    </tr>\n",
              "    <tr>\n",
              "      <th>823.0</th>\n",
              "      <td>0.000000</td>\n",
              "      <td>1</td>\n",
              "    </tr>\n",
              "    <tr>\n",
              "      <th>825.0</th>\n",
              "      <td>0.000000</td>\n",
              "      <td>1</td>\n",
              "    </tr>\n",
              "    <tr>\n",
              "      <th>916.0</th>\n",
              "      <td>0.000000</td>\n",
              "      <td>1</td>\n",
              "    </tr>\n",
              "    <tr>\n",
              "      <th>919.0</th>\n",
              "      <td>0.000000</td>\n",
              "      <td>1</td>\n",
              "    </tr>\n",
              "    <tr>\n",
              "      <th>933.0</th>\n",
              "      <td>0.000000</td>\n",
              "      <td>1</td>\n",
              "    </tr>\n",
              "  </tbody>\n",
              "</table>\n",
              "<p>176 rows × 2 columns</p>\n",
              "</div>"
            ],
            "text/plain": [
              "             proporcion  cantidad\n",
              "OFICINA_VIN                      \n",
              "929.0          0.048780        41\n",
              "319.0          0.033333        30\n",
              "961.0          0.032258        31\n",
              "967.0          0.030303        33\n",
              "963.0          0.029412        34\n",
              "...                 ...       ...\n",
              "823.0          0.000000         1\n",
              "825.0          0.000000         1\n",
              "916.0          0.000000         1\n",
              "919.0          0.000000         1\n",
              "933.0          0.000000         1\n",
              "\n",
              "[176 rows x 2 columns]"
            ]
          },
          "metadata": {},
          "execution_count": 114
        }
      ]
    },
    {
      "cell_type": "code",
      "metadata": {
        "colab": {
          "base_uri": "https://localhost:8080/"
        },
        "id": "PSuwadR8YwNC",
        "outputId": "eb3abf6b-9a67-4cb9-bac2-c0090206f7f7"
      },
      "source": [
        "training.groupby('SEXO')['FRAUDE'].value_counts()"
      ],
      "execution_count": null,
      "outputs": [
        {
          "output_type": "execute_result",
          "data": {
            "text/plain": [
              "SEXO  FRAUDE\n",
              "F     0         1042\n",
              "      1          396\n",
              "M     0         1146\n",
              "      1          326\n",
              "Name: FRAUDE, dtype: int64"
            ]
          },
          "metadata": {},
          "execution_count": 93
        }
      ]
    },
    {
      "cell_type": "markdown",
      "metadata": {
        "id": "_m1fE1pchJzP"
      },
      "source": [
        "Se considera incluir el día de la semana en la que ocurrió la transacción al modelo ya que se observa que la mayoría de transacciones ocurren en los fines de semana, además, en los fines de semana se tiene la mayor proporción de transacciones fraudulentas."
      ]
    },
    {
      "cell_type": "code",
      "metadata": {
        "colab": {
          "base_uri": "https://localhost:8080/",
          "height": 295
        },
        "id": "Oy2DI2Dshgy7",
        "outputId": "e5c31fd9-6748-49c2-c6c0-b862265cca2d"
      },
      "source": [
        "training.groupby('DIASEM')['FRAUDE'].mean().plot()"
      ],
      "execution_count": 135,
      "outputs": [
        {
          "output_type": "execute_result",
          "data": {
            "text/plain": [
              "<matplotlib.axes._subplots.AxesSubplot at 0x7efea7da4550>"
            ]
          },
          "metadata": {},
          "execution_count": 135
        },
        {
          "output_type": "display_data",
          "data": {
            "image/png": "[encoded data removed]",
            "text/plain": [
              "<Figure size 432x288 with 1 Axes>"
            ]
          },
          "metadata": {
            "needs_background": "light"
          }
        }
      ]
    },
    {
      "cell_type": "code",
      "metadata": {
        "colab": {
          "base_uri": "https://localhost:8080/",
          "height": 295
        },
        "id": "orb8flxYZgTX",
        "outputId": "00fee070-731d-444a-e336-1878b275ceec"
      },
      "source": [
        "training.groupby('DIASEM')['FRAUDE'].sum().plot()"
      ],
      "execution_count": 134,
      "outputs": [
        {
          "output_type": "execute_result",
          "data": {
            "text/plain": [
              "<matplotlib.axes._subplots.AxesSubplot at 0x7efea7def850>"
            ]
          },
          "metadata": {},
          "execution_count": 134
        },
        {
          "output_type": "display_data",
          "data": {
            "image/png": "[encoded data removed]",
            "text/plain": [
              "<Figure size 432x288 with 1 Axes>"
            ]
          },
          "metadata": {
            "needs_background": "light"
          }
        }
      ]
    },
    {
      "cell_type": "markdown",
      "metadata": {
        "id": "VDfEFXGEhnF3"
      },
      "source": [
        "Se descarta considerar el día del mes en que ocurrió la transacción ya que el posible patrón que evidencia que en los días 9 hay mayor proporción de transacciones puede estar desbalanceado respecto a la cantidad de transacciones que se realizan en dicho día.\n",
        "\n"
      ]
    },
    {
      "cell_type": "code",
      "metadata": {
        "colab": {
          "base_uri": "https://localhost:8080/",
          "height": 295
        },
        "id": "Vd18_hMiiKFt",
        "outputId": "54d66cbe-3931-4f08-c1ba-7d9727718e17"
      },
      "source": [
        "training.groupby('DIAMES')['FRAUDE'].mean().plot()"
      ],
      "execution_count": 140,
      "outputs": [
        {
          "output_type": "execute_result",
          "data": {
            "text/plain": [
              "<matplotlib.axes._subplots.AxesSubplot at 0x7efea734cb10>"
            ]
          },
          "metadata": {},
          "execution_count": 140
        },
        {
          "output_type": "display_data",
          "data": {
            "image/png": "[encoded data removed]",
            "text/plain": [
              "<Figure size 432x288 with 1 Axes>"
            ]
          },
          "metadata": {
            "needs_background": "light"
          }
        }
      ]
    },
    {
      "cell_type": "code",
      "metadata": {
        "colab": {
          "base_uri": "https://localhost:8080/",
          "height": 295
        },
        "id": "RRBvQTrkfKj_",
        "outputId": "bf2583bb-7d6e-40ca-9b92-9d39db634bd7"
      },
      "source": [
        "training.groupby('DIAMES')['FRAUDE'].count().plot()"
      ],
      "execution_count": 139,
      "outputs": [
        {
          "output_type": "execute_result",
          "data": {
            "text/plain": [
              "<matplotlib.axes._subplots.AxesSubplot at 0x7efea73d48d0>"
            ]
          },
          "metadata": {},
          "execution_count": 139
        },
        {
          "output_type": "display_data",
          "data": {
            "image/png": "[encoded data removed]",
            "text/plain": [
              "<Figure size 432x288 with 1 Axes>"
            ]
          },
          "metadata": {
            "needs_background": "light"
          }
        }
      ]
    },
    {
      "cell_type": "markdown",
      "metadata": {
        "id": "h-NPeORPgmGw"
      },
      "source": [
        "Se descarta considerar que el número de países inside en las transacciones fraudulentas ya que se observa que en todos los niveles a excepción del primero se observa el mismo tipo de comportamiento, esto puede deberse muy posiblemente a un desbalanceo.\n",
        "\n"
      ]
    },
    {
      "cell_type": "code",
      "metadata": {
        "colab": {
          "base_uri": "https://localhost:8080/",
          "height": 313
        },
        "id": "gutUT1a6fZqS",
        "outputId": "1155bd99-c073-4cc7-9453-a8e70c401dc9"
      },
      "source": [
        "training.groupby(['NROPAISES', 'FRAUDE'])['id'].count().plot.bar()"
      ],
      "execution_count": 133,
      "outputs": [
        {
          "output_type": "execute_result",
          "data": {
            "text/plain": [
              "<matplotlib.axes._subplots.AxesSubplot at 0x7efea76561d0>"
            ]
          },
          "metadata": {},
          "execution_count": 133
        },
        {
          "output_type": "display_data",
          "data": {
            "image/png": "[encoded data removed]",
            "text/plain": [
              "<Figure size 432x288 with 1 Axes>"
            ]
          },
          "metadata": {
            "needs_background": "light"
          }
        }
      ]
    },
    {
      "cell_type": "code",
      "metadata": {
        "colab": {
          "base_uri": "https://localhost:8080/",
          "height": 295
        },
        "id": "wz_HcOQyiTs7",
        "outputId": "69be0ea3-c748-4f9b-b650-d4abd871ddba"
      },
      "source": [
        "sns.boxplot(data = training, x= \"FRAUDE\", y=\"EDAD\")"
      ],
      "execution_count": 141,
      "outputs": [
        {
          "output_type": "execute_result",
          "data": {
            "text/plain": [
              "<matplotlib.axes._subplots.AxesSubplot at 0x7efea833d310>"
            ]
          },
          "metadata": {},
          "execution_count": 141
        },
        {
          "output_type": "display_data",
          "data": {
            "image/png": "[encoded data removed]",
            "text/plain": [
              "<Figure size 432x288 with 1 Axes>"
            ]
          },
          "metadata": {
            "needs_background": "light"
          }
        }
      ]
    },
    {
      "cell_type": "code",
      "metadata": {
        "colab": {
          "base_uri": "https://localhost:8080/"
        },
        "id": "8COqLzMjih8V",
        "outputId": "88789808-f147-4098-9179-c506aac8270c"
      },
      "source": [
        "training[['FRAUDE']][(training['EDAD'] < 23) | (training['EDAD'] > 62)].value_counts()"
      ],
      "execution_count": 190,
      "outputs": [
        {
          "output_type": "execute_result",
          "data": {
            "text/plain": [
              "FRAUDE\n",
              "0         164\n",
              "1          92\n",
              "dtype: int64"
            ]
          },
          "metadata": {},
          "execution_count": 190
        }
      ]
    },
    {
      "cell_type": "code",
      "metadata": {
        "colab": {
          "base_uri": "https://localhost:8080/"
        },
        "id": "lB6peJgfjHox",
        "outputId": "6017a3ee-e308-4c94-e19d-f6e0d3894afb"
      },
      "source": [
        "training['EDAD'].quantile([0.05, 0.95])"
      ],
      "execution_count": 160,
      "outputs": [
        {
          "output_type": "execute_result",
          "data": {
            "text/plain": [
              "0.05    23.0\n",
              "0.95    61.0\n",
              "Name: EDAD, dtype: float64"
            ]
          },
          "metadata": {},
          "execution_count": 160
        }
      ]
    },
    {
      "cell_type": "markdown",
      "metadata": {
        "id": "Xc-qLBuUliUY"
      },
      "source": [
        "Existe independencia respecto al sexo"
      ]
    },
    {
      "cell_type": "code",
      "metadata": {
        "id": "SjFWXwrylmL-"
      },
      "source": [
        ""
      ],
      "execution_count": null,
      "outputs": []
    },
    {
      "cell_type": "code",
      "metadata": {
        "colab": {
          "base_uri": "https://localhost:8080/"
        },
        "id": "U06zSXcQkAPd",
        "outputId": "fc7f4585-97a0-4f23-f156-c0db61da1477"
      },
      "source": [
        "training['SEXO'].value_counts()"
      ],
      "execution_count": 171,
      "outputs": [
        {
          "output_type": "execute_result",
          "data": {
            "text/plain": [
              "M    1472\n",
              "F    1438\n",
              "Name: SEXO, dtype: int64"
            ]
          },
          "metadata": {},
          "execution_count": 171
        }
      ]
    },
    {
      "cell_type": "markdown",
      "metadata": {
        "id": "XEsvzjM7lY5l"
      },
      "source": [
        "Se observa que en promedio las transacciones realizadas en horas más tempranas son transacciones fraudulentas:"
      ]
    },
    {
      "cell_type": "code",
      "metadata": {
        "id": "8DRWTpraldns"
      },
      "source": [
        ""
      ],
      "execution_count": null,
      "outputs": []
    },
    {
      "cell_type": "code",
      "metadata": {
        "colab": {
          "base_uri": "https://localhost:8080/",
          "height": 300
        },
        "id": "4zdmjJ2WkMXo",
        "outputId": "3603fc05-981a-4895-aaa6-c5f6a41a589c"
      },
      "source": [
        "training.groupby('HORA_AUX')['FRAUDE'].mean().plot()"
      ],
      "execution_count": 178,
      "outputs": [
        {
          "output_type": "execute_result",
          "data": {
            "text/plain": [
              "<matplotlib.axes._subplots.AxesSubplot at 0x7efea8fa7690>"
            ]
          },
          "metadata": {},
          "execution_count": 178
        },
        {
          "output_type": "display_data",
          "data": {
            "image/png": "[encoded data removed]",
            "text/plain": [
              "<Figure size 432x288 with 1 Axes>"
            ]
          },
          "metadata": {
            "needs_background": "light"
          }
        }
      ]
    },
    {
      "cell_type": "code",
      "metadata": {
        "colab": {
          "base_uri": "https://localhost:8080/",
          "height": 298
        },
        "id": "nHfIGKj2mPZb",
        "outputId": "04d72e2f-16ab-45e6-baf6-a9c6fbdccc40"
      },
      "source": [
        "training.groupby('NROCIUDADES')['FRAUDE'].mean().plot.bar()"
      ],
      "execution_count": 196,
      "outputs": [
        {
          "output_type": "execute_result",
          "data": {
            "text/plain": [
              "<matplotlib.axes._subplots.AxesSubplot at 0x7efea8fc2790>"
            ]
          },
          "metadata": {},
          "execution_count": 196
        },
        {
          "output_type": "display_data",
          "data": {
            "image/png": "[encoded data removed]",
            "text/plain": [
              "<Figure size 432x288 with 1 Axes>"
            ]
          },
          "metadata": {
            "needs_background": "light"
          }
        }
      ]
    },
    {
      "cell_type": "code",
      "metadata": {
        "colab": {
          "base_uri": "https://localhost:8080/",
          "height": 301
        },
        "id": "vlOwzyQGmwYA",
        "outputId": "3f790059-f358-49d1-f549-49db1320eae0"
      },
      "source": [
        "training.groupby('NROCIUDADES')['FRAUDE'].sum().plot.bar()"
      ],
      "execution_count": 197,
      "outputs": [
        {
          "output_type": "execute_result",
          "data": {
            "text/plain": [
              "<matplotlib.axes._subplots.AxesSubplot at 0x7efea8fe3f90>"
            ]
          },
          "metadata": {},
          "execution_count": 197
        },
        {
          "output_type": "display_data",
          "data": {
            "image/png": "[encoded data removed]",
            "text/plain": [
              "<Figure size 432x288 with 1 Axes>"
            ]
          },
          "metadata": {
            "needs_background": "light"
          }
        }
      ]
    }
  ]
}